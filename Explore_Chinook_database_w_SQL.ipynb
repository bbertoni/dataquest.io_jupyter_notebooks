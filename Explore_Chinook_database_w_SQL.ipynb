{
 "cells": [
  {
   "cell_type": "markdown",
   "metadata": {
    "collapsed": true
   },
   "source": [
    "# Using SQL to explore the Chinook record sales database"
   ]
  },
  {
   "cell_type": "code",
   "execution_count": 2,
   "metadata": {
    "collapsed": true
   },
   "outputs": [],
   "source": [
    "# import modules\n",
    "%matplotlib inline\n",
    "import numpy as np\n",
    "import pandas as pd\n",
    "import sqlite3\n",
    "from matplotlib import pyplot as plt\n",
    "from matplotlib import cm"
   ]
  },
  {
   "cell_type": "code",
   "execution_count": 3,
   "metadata": {
    "collapsed": false
   },
   "outputs": [],
   "source": [
    "db = 'chinook.db'\n",
    "\n",
    "def run_query(query):\n",
    "    '''takes in a SQL query and returns a pandas dataframe of the query'''\n",
    "    with sqlite3.connect(db) as conn:\n",
    "        return pd.read_sql(query,conn)\n",
    "    \n",
    "def run_command(command):\n",
    "    '''takes in a SQL command and executes it'''\n",
    "    with sqlite3.connect(db) as conn:\n",
    "        conn.isolation_level = None\n",
    "        conn.execute(command)\n",
    "        \n",
    "def show_tables():\n",
    "    '''calls run_query to return a list of all tables and views in the database'''\n",
    "    query = '''SELECT name, type \n",
    "               FROM sqlite_master \n",
    "               WHERE type IN ('table','view');'''\n",
    "    return run_query(query)"
   ]
  },
  {
   "cell_type": "code",
   "execution_count": 4,
   "metadata": {
    "collapsed": false
   },
   "outputs": [
    {
     "data": {
      "text/html": [
       "<div>\n",
       "<style scoped>\n",
       "    .dataframe tbody tr th:only-of-type {\n",
       "        vertical-align: middle;\n",
       "    }\n",
       "\n",
       "    .dataframe tbody tr th {\n",
       "        vertical-align: top;\n",
       "    }\n",
       "\n",
       "    .dataframe thead th {\n",
       "        text-align: right;\n",
       "    }\n",
       "</style>\n",
       "<table border=\"1\" class=\"dataframe\">\n",
       "  <thead>\n",
       "    <tr style=\"text-align: right;\">\n",
       "      <th></th>\n",
       "      <th>name</th>\n",
       "      <th>type</th>\n",
       "    </tr>\n",
       "  </thead>\n",
       "  <tbody>\n",
       "    <tr>\n",
       "      <th>0</th>\n",
       "      <td>album</td>\n",
       "      <td>table</td>\n",
       "    </tr>\n",
       "    <tr>\n",
       "      <th>1</th>\n",
       "      <td>artist</td>\n",
       "      <td>table</td>\n",
       "    </tr>\n",
       "    <tr>\n",
       "      <th>2</th>\n",
       "      <td>customer</td>\n",
       "      <td>table</td>\n",
       "    </tr>\n",
       "    <tr>\n",
       "      <th>3</th>\n",
       "      <td>employee</td>\n",
       "      <td>table</td>\n",
       "    </tr>\n",
       "    <tr>\n",
       "      <th>4</th>\n",
       "      <td>genre</td>\n",
       "      <td>table</td>\n",
       "    </tr>\n",
       "    <tr>\n",
       "      <th>5</th>\n",
       "      <td>invoice</td>\n",
       "      <td>table</td>\n",
       "    </tr>\n",
       "    <tr>\n",
       "      <th>6</th>\n",
       "      <td>invoice_line</td>\n",
       "      <td>table</td>\n",
       "    </tr>\n",
       "    <tr>\n",
       "      <th>7</th>\n",
       "      <td>media_type</td>\n",
       "      <td>table</td>\n",
       "    </tr>\n",
       "    <tr>\n",
       "      <th>8</th>\n",
       "      <td>playlist</td>\n",
       "      <td>table</td>\n",
       "    </tr>\n",
       "    <tr>\n",
       "      <th>9</th>\n",
       "      <td>playlist_track</td>\n",
       "      <td>table</td>\n",
       "    </tr>\n",
       "    <tr>\n",
       "      <th>10</th>\n",
       "      <td>track</td>\n",
       "      <td>table</td>\n",
       "    </tr>\n",
       "  </tbody>\n",
       "</table>\n",
       "</div>"
      ],
      "text/plain": [
       "              name   type\n",
       "0            album  table\n",
       "1           artist  table\n",
       "2         customer  table\n",
       "3         employee  table\n",
       "4            genre  table\n",
       "5          invoice  table\n",
       "6     invoice_line  table\n",
       "7       media_type  table\n",
       "8         playlist  table\n",
       "9   playlist_track  table\n",
       "10           track  table"
      ]
     },
     "execution_count": 4,
     "metadata": {},
     "output_type": "execute_result"
    }
   ],
   "source": [
    "show_tables()"
   ]
  },
  {
   "cell_type": "markdown",
   "metadata": {},
   "source": [
    "### Select the three new albums (genres Hip-Hop, Punk, Pop, and Blues) to be sold at the store based on which genres sell best in the USA"
   ]
  },
  {
   "cell_type": "code",
   "execution_count": 5,
   "metadata": {
    "collapsed": false
   },
   "outputs": [
    {
     "data": {
      "text/html": [
       "<div>\n",
       "<style scoped>\n",
       "    .dataframe tbody tr th:only-of-type {\n",
       "        vertical-align: middle;\n",
       "    }\n",
       "\n",
       "    .dataframe tbody tr th {\n",
       "        vertical-align: top;\n",
       "    }\n",
       "\n",
       "    .dataframe thead th {\n",
       "        text-align: right;\n",
       "    }\n",
       "</style>\n",
       "<table border=\"1\" class=\"dataframe\">\n",
       "  <thead>\n",
       "    <tr style=\"text-align: right;\">\n",
       "      <th></th>\n",
       "      <th>genre</th>\n",
       "      <th>num_tracks_sold</th>\n",
       "      <th>pct_tracks_sold</th>\n",
       "    </tr>\n",
       "  </thead>\n",
       "  <tbody>\n",
       "    <tr>\n",
       "      <th>0</th>\n",
       "      <td>Alternative &amp; Punk</td>\n",
       "      <td>130</td>\n",
       "      <td>62.500000</td>\n",
       "    </tr>\n",
       "    <tr>\n",
       "      <th>1</th>\n",
       "      <td>Blues</td>\n",
       "      <td>36</td>\n",
       "      <td>17.307692</td>\n",
       "    </tr>\n",
       "    <tr>\n",
       "      <th>2</th>\n",
       "      <td>Pop</td>\n",
       "      <td>22</td>\n",
       "      <td>10.576923</td>\n",
       "    </tr>\n",
       "    <tr>\n",
       "      <th>3</th>\n",
       "      <td>Hip Hop/Rap</td>\n",
       "      <td>20</td>\n",
       "      <td>9.615385</td>\n",
       "    </tr>\n",
       "  </tbody>\n",
       "</table>\n",
       "</div>"
      ],
      "text/plain": [
       "                genre  num_tracks_sold  pct_tracks_sold\n",
       "0  Alternative & Punk              130        62.500000\n",
       "1               Blues               36        17.307692\n",
       "2                 Pop               22        10.576923\n",
       "3         Hip Hop/Rap               20         9.615385"
      ]
     },
     "execution_count": 5,
     "metadata": {},
     "output_type": "execute_result"
    }
   ],
   "source": [
    "query = '''\n",
    "        WITH genre_table AS\n",
    "        (\n",
    "        SELECT g.name as genre,\n",
    "               COUNT(il.invoice_line_id) num_tracks_sold\n",
    "        FROM genre g\n",
    "        LEFT JOIN track t ON t.genre_id = g.genre_id\n",
    "        LEFT JOIN invoice_line il ON il.track_id = t.track_id\n",
    "        LEFT JOIN invoice i ON i.invoice_id = il.invoice_id\n",
    "        LEFT JOIN customer c ON c.customer_id = i.customer_id\n",
    "        WHERE (c.country = \"USA\" AND \n",
    "              (LOWER(genre) LIKE '%hip%' OR \n",
    "              LOWER(genre) LIKE '%punk%' OR \n",
    "              LOWER(genre) LIKE '%pop%' OR\n",
    "              LOWER(genre) LIKE '%blues%'))\n",
    "        GROUP BY genre\n",
    "        ORDER BY num_tracks_sold DESC\n",
    "        )\n",
    "        \n",
    "        SELECT genre,\n",
    "               num_tracks_sold,\n",
    "               100*CAST(num_tracks_sold AS float)/(SELECT SUM(num_tracks_sold) FROM genre_table) pct_tracks_sold\n",
    "        FROM genre_table\n",
    "        '''\n",
    "\n",
    "genre_sales_usa = run_query(query)\n",
    "genre_sales_usa"
   ]
  },
  {
   "cell_type": "code",
   "execution_count": 6,
   "metadata": {
    "collapsed": false
   },
   "outputs": [
    {
     "data": {
      "text/plain": [
       "<matplotlib.text.Text at 0x7f65baa3b160>"
      ]
     },
     "execution_count": 6,
     "metadata": {},
     "output_type": "execute_result"
    },
    {
     "data": {
      "image/png": "[encoded data removed]",
      "text/plain": [
       "<matplotlib.figure.Figure at 0x7f65baae1eb8>"
      ]
     },
     "metadata": {},
     "output_type": "display_data"
    }
   ],
   "source": [
    "genre_sales_usa.plot.bar(x='genre',y='pct_tracks_sold',rot=0)\n",
    "plt.title(\"Percentage of tracks sold by genre\")\n",
    "plt.ylabel(\"% tracks sold\")"
   ]
  },
  {
   "cell_type": "markdown",
   "metadata": {},
   "source": [
    "Since Punk, Blues, and Pop sell the most out of the four genres in consideration, we recommend selecting albums with these genres."
   ]
  },
  {
   "cell_type": "markdown",
   "metadata": {},
   "source": [
    "### Find which sales support agents generate the most revenue"
   ]
  },
  {
   "cell_type": "code",
   "execution_count": 7,
   "metadata": {
    "collapsed": false
   },
   "outputs": [
    {
     "data": {
      "text/html": [
       "<div>\n",
       "<style scoped>\n",
       "    .dataframe tbody tr th:only-of-type {\n",
       "        vertical-align: middle;\n",
       "    }\n",
       "\n",
       "    .dataframe tbody tr th {\n",
       "        vertical-align: top;\n",
       "    }\n",
       "\n",
       "    .dataframe thead th {\n",
       "        text-align: right;\n",
       "    }\n",
       "</style>\n",
       "<table border=\"1\" class=\"dataframe\">\n",
       "  <thead>\n",
       "    <tr style=\"text-align: right;\">\n",
       "      <th></th>\n",
       "      <th>title</th>\n",
       "    </tr>\n",
       "  </thead>\n",
       "  <tbody>\n",
       "    <tr>\n",
       "      <th>0</th>\n",
       "      <td>General Manager</td>\n",
       "    </tr>\n",
       "    <tr>\n",
       "      <th>1</th>\n",
       "      <td>Sales Manager</td>\n",
       "    </tr>\n",
       "    <tr>\n",
       "      <th>2</th>\n",
       "      <td>Sales Support Agent</td>\n",
       "    </tr>\n",
       "    <tr>\n",
       "      <th>3</th>\n",
       "      <td>IT Manager</td>\n",
       "    </tr>\n",
       "    <tr>\n",
       "      <th>4</th>\n",
       "      <td>IT Staff</td>\n",
       "    </tr>\n",
       "  </tbody>\n",
       "</table>\n",
       "</div>"
      ],
      "text/plain": [
       "                 title\n",
       "0      General Manager\n",
       "1        Sales Manager\n",
       "2  Sales Support Agent\n",
       "3           IT Manager\n",
       "4             IT Staff"
      ]
     },
     "execution_count": 7,
     "metadata": {},
     "output_type": "execute_result"
    }
   ],
   "source": [
    "query = '''\n",
    "        SELECT DISTINCT(title)\n",
    "        FROM employee as e'''\n",
    "\n",
    "employee_titles = run_query(query)\n",
    "employee_titles"
   ]
  },
  {
   "cell_type": "code",
   "execution_count": 8,
   "metadata": {
    "collapsed": false
   },
   "outputs": [
    {
     "data": {
      "text/html": [
       "<div>\n",
       "<style scoped>\n",
       "    .dataframe tbody tr th:only-of-type {\n",
       "        vertical-align: middle;\n",
       "    }\n",
       "\n",
       "    .dataframe tbody tr th {\n",
       "        vertical-align: top;\n",
       "    }\n",
       "\n",
       "    .dataframe thead th {\n",
       "        text-align: right;\n",
       "    }\n",
       "</style>\n",
       "<table border=\"1\" class=\"dataframe\">\n",
       "  <thead>\n",
       "    <tr style=\"text-align: right;\">\n",
       "      <th></th>\n",
       "      <th>name</th>\n",
       "      <th>hire_date</th>\n",
       "      <th>num_customers</th>\n",
       "      <th>total_sales_dollars</th>\n",
       "    </tr>\n",
       "  </thead>\n",
       "  <tbody>\n",
       "    <tr>\n",
       "      <th>0</th>\n",
       "      <td>Jane Peacock</td>\n",
       "      <td>2017-04-01 00:00:00</td>\n",
       "      <td>21</td>\n",
       "      <td>1731.51</td>\n",
       "    </tr>\n",
       "    <tr>\n",
       "      <th>1</th>\n",
       "      <td>Margaret Park</td>\n",
       "      <td>2017-05-03 00:00:00</td>\n",
       "      <td>20</td>\n",
       "      <td>1584.00</td>\n",
       "    </tr>\n",
       "    <tr>\n",
       "      <th>2</th>\n",
       "      <td>Steve Johnson</td>\n",
       "      <td>2017-10-17 00:00:00</td>\n",
       "      <td>18</td>\n",
       "      <td>1393.92</td>\n",
       "    </tr>\n",
       "  </tbody>\n",
       "</table>\n",
       "</div>"
      ],
      "text/plain": [
       "            name            hire_date  num_customers  total_sales_dollars\n",
       "0   Jane Peacock  2017-04-01 00:00:00             21              1731.51\n",
       "1  Margaret Park  2017-05-03 00:00:00             20              1584.00\n",
       "2  Steve Johnson  2017-10-17 00:00:00             18              1393.92"
      ]
     },
     "execution_count": 8,
     "metadata": {},
     "output_type": "execute_result"
    }
   ],
   "source": [
    "query = '''\n",
    "    SELECT e.first_name || \" \" || e.last_name name,\n",
    "           e.hire_date,\n",
    "           COUNT(DISTINCT(c.customer_id)) as num_customers,\n",
    "           CASE WHEN i.total > 0 THEN SUM(i.total) ELSE 0 END total_sales_dollars\n",
    "    FROM employee as e\n",
    "    LEFT JOIN customer c ON c.support_rep_id = e.employee_id\n",
    "    LEFT JOIN invoice i ON i.customer_id = c.customer_id\n",
    "    WHERE e.title = \"Sales Support Agent\"\n",
    "    GROUP BY name\n",
    "    '''\n",
    "employee_sales = run_query(query)\n",
    "employee_sales"
   ]
  },
  {
   "cell_type": "code",
   "execution_count": 9,
   "metadata": {
    "collapsed": false
   },
   "outputs": [
    {
     "data": {
      "text/plain": [
       "<matplotlib.text.Text at 0x7f65b079a128>"
      ]
     },
     "execution_count": 9,
     "metadata": {},
     "output_type": "execute_result"
    },
    {
     "data": {
      "image/png": "[encoded data removed]",
      "text/plain": [
       "<matplotlib.figure.Figure at 0x7f65baaac438>"
      ]
     },
     "metadata": {},
     "output_type": "display_data"
    }
   ],
   "source": [
    "employee_sales.plot.bar(x=\"name\",y=\"total_sales_dollars\",rot=0)\n",
    "plt.title(\"Total Sales Dollars by Employee\")\n",
    "plt.ylabel(\"Total sales in dollars\")"
   ]
  },
  {
   "cell_type": "markdown",
   "metadata": {},
   "source": [
    "It looks like Jane had the highest total revenue, followed by Margaret and Steve.  However Jane had the earliest start date, followed by Margaret and Steve, so these sales employees might be generating total revenue at similar rates."
   ]
  },
  {
   "cell_type": "markdown",
   "metadata": {},
   "source": [
    "### Analyze sales data by country; for each country calculate\n",
    "* total number of customers\n",
    "* total value of sales\n",
    "* average value of sales per customer\n",
    "* average order value"
   ]
  },
  {
   "cell_type": "code",
   "execution_count": 10,
   "metadata": {
    "collapsed": false
   },
   "outputs": [
    {
     "data": {
      "text/html": [
       "<div>\n",
       "<style scoped>\n",
       "    .dataframe tbody tr th:only-of-type {\n",
       "        vertical-align: middle;\n",
       "    }\n",
       "\n",
       "    .dataframe tbody tr th {\n",
       "        vertical-align: top;\n",
       "    }\n",
       "\n",
       "    .dataframe thead th {\n",
       "        text-align: right;\n",
       "    }\n",
       "</style>\n",
       "<table border=\"1\" class=\"dataframe\">\n",
       "  <thead>\n",
       "    <tr style=\"text-align: right;\">\n",
       "      <th></th>\n",
       "      <th>country</th>\n",
       "      <th>num_customers</th>\n",
       "      <th>tot_sales_value</th>\n",
       "      <th>avg_sales_per_cust</th>\n",
       "      <th>avg_order_value</th>\n",
       "    </tr>\n",
       "  </thead>\n",
       "  <tbody>\n",
       "    <tr>\n",
       "      <th>0</th>\n",
       "      <td>USA</td>\n",
       "      <td>13</td>\n",
       "      <td>1040.49</td>\n",
       "      <td>80.037692</td>\n",
       "      <td>7.942672</td>\n",
       "    </tr>\n",
       "    <tr>\n",
       "      <th>1</th>\n",
       "      <td>Canada</td>\n",
       "      <td>8</td>\n",
       "      <td>535.59</td>\n",
       "      <td>66.948750</td>\n",
       "      <td>7.047237</td>\n",
       "    </tr>\n",
       "    <tr>\n",
       "      <th>2</th>\n",
       "      <td>Brazil</td>\n",
       "      <td>5</td>\n",
       "      <td>427.68</td>\n",
       "      <td>85.536000</td>\n",
       "      <td>7.011148</td>\n",
       "    </tr>\n",
       "    <tr>\n",
       "      <th>3</th>\n",
       "      <td>France</td>\n",
       "      <td>5</td>\n",
       "      <td>389.07</td>\n",
       "      <td>77.814000</td>\n",
       "      <td>7.781400</td>\n",
       "    </tr>\n",
       "    <tr>\n",
       "      <th>4</th>\n",
       "      <td>Germany</td>\n",
       "      <td>4</td>\n",
       "      <td>334.62</td>\n",
       "      <td>83.655000</td>\n",
       "      <td>8.161463</td>\n",
       "    </tr>\n",
       "    <tr>\n",
       "      <th>5</th>\n",
       "      <td>Czech Republic</td>\n",
       "      <td>2</td>\n",
       "      <td>273.24</td>\n",
       "      <td>136.620000</td>\n",
       "      <td>9.108000</td>\n",
       "    </tr>\n",
       "    <tr>\n",
       "      <th>6</th>\n",
       "      <td>United Kingdom</td>\n",
       "      <td>3</td>\n",
       "      <td>245.52</td>\n",
       "      <td>81.840000</td>\n",
       "      <td>8.768571</td>\n",
       "    </tr>\n",
       "    <tr>\n",
       "      <th>7</th>\n",
       "      <td>Portugal</td>\n",
       "      <td>2</td>\n",
       "      <td>185.13</td>\n",
       "      <td>92.565000</td>\n",
       "      <td>6.383793</td>\n",
       "    </tr>\n",
       "    <tr>\n",
       "      <th>8</th>\n",
       "      <td>India</td>\n",
       "      <td>2</td>\n",
       "      <td>183.15</td>\n",
       "      <td>91.575000</td>\n",
       "      <td>8.721429</td>\n",
       "    </tr>\n",
       "    <tr>\n",
       "      <th>9</th>\n",
       "      <td>Other</td>\n",
       "      <td>15</td>\n",
       "      <td>1094.94</td>\n",
       "      <td>72.996000</td>\n",
       "      <td>7.448571</td>\n",
       "    </tr>\n",
       "  </tbody>\n",
       "</table>\n",
       "</div>"
      ],
      "text/plain": [
       "          country  num_customers  tot_sales_value  avg_sales_per_cust  \\\n",
       "0             USA             13          1040.49           80.037692   \n",
       "1          Canada              8           535.59           66.948750   \n",
       "2          Brazil              5           427.68           85.536000   \n",
       "3          France              5           389.07           77.814000   \n",
       "4         Germany              4           334.62           83.655000   \n",
       "5  Czech Republic              2           273.24          136.620000   \n",
       "6  United Kingdom              3           245.52           81.840000   \n",
       "7        Portugal              2           185.13           92.565000   \n",
       "8           India              2           183.15           91.575000   \n",
       "9           Other             15          1094.94           72.996000   \n",
       "\n",
       "   avg_order_value  \n",
       "0         7.942672  \n",
       "1         7.047237  \n",
       "2         7.011148  \n",
       "3         7.781400  \n",
       "4         8.161463  \n",
       "5         9.108000  \n",
       "6         8.768571  \n",
       "7         6.383793  \n",
       "8         8.721429  \n",
       "9         7.448571  "
      ]
     },
     "execution_count": 10,
     "metadata": {},
     "output_type": "execute_result"
    }
   ],
   "source": [
    "query = '''\n",
    "        WITH country_table AS\n",
    "        (\n",
    "        SELECT\n",
    "            c.country,\n",
    "            COUNT(DISTINCT(c.customer_id)) num_customers,\n",
    "            SUM(i.total) tot_sales_value,\n",
    "            COUNT(DISTINCT(invoice_id)) num_orders\n",
    "        FROM customer c\n",
    "        LEFT JOIN invoice i ON i.customer_id = c.customer_id\n",
    "        GROUP BY country\n",
    "        ),\n",
    "        country_group_table AS\n",
    "        (\n",
    "        SELECT \n",
    "            CASE WHEN num_customers > 1 THEN country ELSE \"Other\" END country_group,\n",
    "            SUM(num_customers) num_customers,\n",
    "            SUM(tot_sales_value) tot_sales_value,\n",
    "            CAST(SUM(tot_sales_value) AS float) / SUM(num_customers) avg_sales_per_cust,\n",
    "            CAST(SUM(tot_sales_value) AS float) / SUM(num_orders) avg_order_value\n",
    "        FROM country_table\n",
    "        GROUP BY country_group\n",
    "        )\n",
    "    \n",
    "        SELECT \n",
    "            country_group country,\n",
    "            num_customers,\n",
    "            tot_sales_value,\n",
    "            avg_sales_per_cust,\n",
    "            avg_order_value\n",
    "        FROM (SELECT \n",
    "                  *, \n",
    "                  CASE WHEN country_group = \"Other\" THEN 0 ELSE tot_sales_value END sort\n",
    "              FROM country_group_table)\n",
    "        ORDER BY sort DESC\n",
    "'''\n",
    "\n",
    "country_data = run_query(query)\n",
    "country_data"
   ]
  },
  {
   "cell_type": "code",
   "execution_count": 11,
   "metadata": {
    "collapsed": false
   },
   "outputs": [
    {
     "data": {
      "image/png": "[encoded data removed]",
      "text/plain": [
       "<matplotlib.figure.Figure at 0x7f65b0766ba8>"
      ]
     },
     "metadata": {},
     "output_type": "display_data"
    }
   ],
   "source": [
    "colors = [plt.cm.Accent(i) for i in np.linspace(0, 1, country_data.shape[0])]\n",
    "fig, axes = plt.subplots(2,2,figsize=(10,8))\n",
    "\n",
    "country_data.plot.bar(\"country\",\"num_customers\",ax=axes[0,0],rot=90,color=colors,legend=False)\n",
    "axes[0,0].set_ylabel(\"number of customers\")\n",
    "axes[0,0].set_title(\"Number of customers by country\")\n",
    "axes[0,0].tick_params(top=\"off\", right=\"off\", left=\"off\", bottom=\"off\")\n",
    "\n",
    "country_data.plot.bar(\"country\",\"tot_sales_value\",ax=axes[0,1],rot=90,color=colors,legend=False)\n",
    "axes[0,1].set_ylabel(\"total sales value [$]\")\n",
    "axes[0,1].set_title(\"Total sales by country\")\n",
    "axes[0,1].tick_params(top=\"off\", right=\"off\", left=\"off\", bottom=\"off\")\n",
    "\n",
    "country_data.plot.bar(\"country\",\"avg_sales_per_cust\",ax=axes[1,0],rot=90,color=colors,legend=False)\n",
    "axes[1,0].set_ylabel(\"average sales value per customer [$]\")\n",
    "axes[1,0].set_title(\"Average sales per customer by country\")\n",
    "axes[1,0].tick_params(top=\"off\", right=\"off\", left=\"off\", bottom=\"off\")\n",
    "\n",
    "country_data.plot.bar(\"country\",\"avg_order_value\",ax=axes[1,1],rot=90,color=colors,legend=False)\n",
    "axes[1,1].set_ylabel(\"average value per order[$]\")\n",
    "axes[1,1].set_title(\"Average value per order by country\")\n",
    "axes[1,1].tick_params(top=\"off\", right=\"off\", left=\"off\", bottom=\"off\")\n",
    "\n",
    "plt.tight_layout()"
   ]
  },
  {
   "cell_type": "markdown",
   "metadata": {
    "collapsed": false
   },
   "source": [
    "Given the average sales per customer in each country, it appears that the Czech Republic, Portugal, and India have the largest growth potential--i.e. getting more customers in those countries would increase revenue the most.\n",
    "\n",
    "Given the average value per order in each country, it appears that the Czech Republic, United Kingdom, and India have the largest growth potential--i.e. getting more orders in those countries would increase revenue the most."
   ]
  },
  {
   "cell_type": "markdown",
   "metadata": {
    "collapsed": true
   },
   "source": [
    "### For each invoice, determine if it is an album purchase or not"
   ]
  },
  {
   "cell_type": "code",
   "execution_count": 29,
   "metadata": {
    "collapsed": false
   },
   "outputs": [
    {
     "data": {
      "text/html": [
       "<div>\n",
       "<style scoped>\n",
       "    .dataframe tbody tr th:only-of-type {\n",
       "        vertical-align: middle;\n",
       "    }\n",
       "\n",
       "    .dataframe tbody tr th {\n",
       "        vertical-align: top;\n",
       "    }\n",
       "\n",
       "    .dataframe thead th {\n",
       "        text-align: right;\n",
       "    }\n",
       "</style>\n",
       "<table border=\"1\" class=\"dataframe\">\n",
       "  <thead>\n",
       "    <tr style=\"text-align: right;\">\n",
       "      <th></th>\n",
       "      <th>invoice_album_purchase</th>\n",
       "      <th>num_invoices</th>\n",
       "      <th>pct_invoices</th>\n",
       "    </tr>\n",
       "  </thead>\n",
       "  <tbody>\n",
       "    <tr>\n",
       "      <th>0</th>\n",
       "      <td>no</td>\n",
       "      <td>413</td>\n",
       "      <td>67.263844</td>\n",
       "    </tr>\n",
       "    <tr>\n",
       "      <th>1</th>\n",
       "      <td>yes</td>\n",
       "      <td>201</td>\n",
       "      <td>32.736156</td>\n",
       "    </tr>\n",
       "  </tbody>\n",
       "</table>\n",
       "</div>"
      ],
      "text/plain": [
       "  invoice_album_purchase  num_invoices  pct_invoices\n",
       "0                     no           413     67.263844\n",
       "1                    yes           201     32.736156"
      ]
     },
     "execution_count": 29,
     "metadata": {},
     "output_type": "execute_result"
    }
   ],
   "source": [
    "# each track_id is only associated with on album id\n",
    "# query = '''\n",
    "#         SELECT track_id,\n",
    "#                COUNT(DISTINCT(album_id)) num_albums\n",
    "#         FROM track\n",
    "#         GROUP BY track_id\n",
    "#         ORDER BY num_albums DESC\n",
    "#         '''\n",
    "\n",
    "query = '''\n",
    "        WITH \n",
    "        \n",
    "        album_tracks AS \n",
    "        (\n",
    "            SELECT a.album_id album_id,\n",
    "                   t.track_id as track_id\n",
    "            FROM album a \n",
    "            LEFT JOIN track t ON t.album_id = a.album_id\n",
    "            ORDER BY 1,2\n",
    "        ),\n",
    "        \n",
    "        num_album_tracks AS\n",
    "        (\n",
    "            SELECT album_id,\n",
    "                   COUNT(DISTINCT(track_id)) as tot_num_tracks\n",
    "            FROM album_tracks \n",
    "            GROUP BY album_id\n",
    "        ),\n",
    "        \n",
    "        invoice_purchases AS\n",
    "        (\n",
    "            SELECT i.invoice_id,\n",
    "                   t.track_id,\n",
    "                   a.album_id album_id\n",
    "            FROM invoice i\n",
    "            LEFT JOIN invoice_line il ON il.invoice_id = i.invoice_id\n",
    "            LEFT JOIN track t ON t.track_id = il.track_id\n",
    "            LEFT JOIN album a ON a.album_id = t.album_id\n",
    "        ),\n",
    "        \n",
    "        invoice_purchases_num_tracks AS\n",
    "        (\n",
    "            SELECT invoice_id,\n",
    "                   album_id,\n",
    "                   COUNT(DISTINCT(track_id)) num_tracks_purchased\n",
    "            FROM invoice_purchases\n",
    "            GROUP BY invoice_id, album_id\n",
    "        ),\n",
    "        \n",
    "        album_purchases AS\n",
    "        (\n",
    "            SELECT i.invoice_id,\n",
    "                   CASE WHEN \n",
    "                       i.num_tracks_purchased = a.tot_num_tracks \n",
    "                       THEN 1\n",
    "                       ELSE 0\n",
    "                       END\n",
    "                       album_purchase\n",
    "            FROM invoice_purchases_num_tracks i\n",
    "            LEFT JOIN num_album_tracks a ON a.album_id = i.album_id\n",
    "        ),\n",
    "        \n",
    "        invoice_album_purchases AS\n",
    "        (\n",
    "            SELECT invoice_id,\n",
    "                   CASE WHEN SUM(album_purchase) > 0 \n",
    "                   THEN \"yes\"\n",
    "                   ELSE \"no\"\n",
    "                   END\n",
    "                   invoice_album_purchase\n",
    "            FROM album_purchases\n",
    "            GROUP BY invoice_id\n",
    "        )\n",
    "        \n",
    "        SELECT invoice_album_purchase,\n",
    "               COUNT(invoice_id) num_invoices,\n",
    "               100*CAST(COUNT(invoice_id) as FLOAT) / \n",
    "                 (SELECT COUNT(*) FROM invoice_album_purchases) \n",
    "               pct_invoices\n",
    "        FROM invoice_album_purchases\n",
    "        GROUP BY invoice_album_purchase\n",
    "        '''\n",
    "\n",
    "# wanted to run the query this way, but had trouble making sense\n",
    "# of it\n",
    "# query = '''        \n",
    "#         WITH \n",
    "        \n",
    "#         album_tracks AS \n",
    "#         (\n",
    "#         SELECT a.album_id album_id,\n",
    "#                t.track_id as track_id\n",
    "#         FROM album a \n",
    "#         LEFT JOIN track t ON t.album_id = a.album_id\n",
    "#         ORDER BY 1,2\n",
    "#         ),\n",
    "        \n",
    "#         invoice_purchases AS\n",
    "#         (\n",
    "#         SELECT i.invoice_id,\n",
    "#                a.album_id,\n",
    "#                t.track_id\n",
    "#         FROM invoice i\n",
    "#         LEFT JOIN invoice_line il ON il.invoice_id = i.invoice_id\n",
    "#         LEFT JOIN track t ON t.track_id = il.track_id\n",
    "#         LEFT JOIN album a ON a.album_id = t.album_id\n",
    "#         ORDER BY i.invoice_id\n",
    "#         )\n",
    "        \n",
    "#         SELECT i.invoice_id,\n",
    "#                i.album_id,\n",
    "#                CASE WHEN (SELECT track_id \n",
    "#                           FROM album_tracks\n",
    "#                           EXCEPT\n",
    "#                           SELECT track_id\n",
    "#                           FROM invoice_purchases\n",
    "#                           ) \n",
    "#                           IS NULL\n",
    "\n",
    "#                           AND\n",
    "\n",
    "#                          (SELECT track_id \n",
    "#                           FROM album_tracks\n",
    "#                           EXCEPT\n",
    "#                           SELECT track_id\n",
    "#                           FROM invoice_purchases\n",
    "#                           ) \n",
    "#                           IS NULL  \n",
    "\n",
    "#                           THEN 1\n",
    "#                           ELSE 0\n",
    "#                           END\n",
    "#                           full_album\n",
    "#         FROM invoice_purchases i\n",
    "#         GROUP BY invoice_id, album_id         \n",
    "#      '''\n",
    "\n",
    "\n",
    "\n",
    "album_data = run_query(query)\n",
    "album_data"
   ]
  },
  {
   "cell_type": "markdown",
   "metadata": {
    "collapsed": true
   },
   "source": [
    "Based on this, about 32% of purchases contain an album purchase, so it makes sense for the Chinook store to continue to buy full albums."
   ]
  },
  {
   "cell_type": "code",
   "execution_count": null,
   "metadata": {
    "collapsed": true
   },
   "outputs": [],
   "source": []
  }
 ],
 "metadata": {
  "kernelspec": {
   "display_name": "Python 3",
   "language": "python",
   "name": "python3"
  },
  "language_info": {
   "codemirror_mode": {
    "name": "ipython",
    "version": 3
   },
   "file_extension": ".py",
   "mimetype": "text/x-python",
   "name": "python",
   "nbconvert_exporter": "python",
   "pygments_lexer": "ipython3",
   "version": "3.4.3"
  }
 },
 "nbformat": 4,
 "nbformat_minor": 2
}
